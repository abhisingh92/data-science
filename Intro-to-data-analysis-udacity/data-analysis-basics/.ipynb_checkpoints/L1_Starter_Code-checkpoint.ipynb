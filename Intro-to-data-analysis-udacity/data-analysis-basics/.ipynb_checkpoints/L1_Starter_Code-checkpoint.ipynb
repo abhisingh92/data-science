{
 "cells": [
  {
   "cell_type": "markdown",
   "metadata": {},
   "source": [
    "## Load Data from CSVs"
   ]
  },
  {
   "cell_type": "code",
   "execution_count": 1,
   "metadata": {
    "collapsed": true
   },
   "outputs": [],
   "source": [
    "import numpy as np"
   ]
  },
  {
   "cell_type": "code",
   "execution_count": 2,
   "metadata": {
    "collapsed": false
   },
   "outputs": [
    {
     "data": {
      "text/plain": [
       "{'account_key': '448',\n",
       " 'cancel_date': '2015-01-14',\n",
       " 'days_to_cancel': '65',\n",
       " 'is_canceled': 'True',\n",
       " 'is_udacity': 'True',\n",
       " 'join_date': '2014-11-10',\n",
       " 'status': 'canceled'}"
      ]
     },
     "execution_count": 2,
     "metadata": {},
     "output_type": "execute_result"
    }
   ],
   "source": [
    "# Most basic and naive way to read a csv file as a List of dictionary\n",
    "\n",
    "import unicodecsv\n",
    "\n",
    "enrollments = []\n",
    "f = open('enrollments.csv', 'rb')   # read file in binary mode\n",
    "reader = unicodecsv.DictReader(f)   # Read csv as dictonary\n",
    "\n",
    "for row in reader:\n",
    "    enrollments.append(row)\n",
    "    \n",
    "f.close()\n",
    "\n",
    "enrollments[0]"
   ]
  },
  {
   "cell_type": "code",
   "execution_count": 3,
   "metadata": {
    "collapsed": false
   },
   "outputs": [
    {
     "name": "stdout",
     "output_type": "stream",
     "text": [
      "Printing first Row of enrollments :\n"
     ]
    },
    {
     "data": {
      "text/plain": [
       "{'account_key': '448',\n",
       " 'cancel_date': '2015-01-14',\n",
       " 'days_to_cancel': '65',\n",
       " 'is_canceled': 'True',\n",
       " 'is_udacity': 'True',\n",
       " 'join_date': '2014-11-10',\n",
       " 'status': 'canceled'}"
      ]
     },
     "execution_count": 3,
     "metadata": {},
     "output_type": "execute_result"
    }
   ],
   "source": [
    "# A better and concise code to do the same as above\n",
    "\n",
    "with open('enrollments.csv', 'rb') as f:\n",
    "    enrollments = list(unicodecsv.DictReader(f))\n",
    "\n",
    "print(\"Printing first Row of enrollments :\")\n",
    "enrollments[0]"
   ]
  },
  {
   "cell_type": "code",
   "execution_count": 4,
   "metadata": {
    "collapsed": false
   },
   "outputs": [],
   "source": [
    "## Read in the data from daily_engagement.csv and project_submissions.csv \n",
    "\n",
    "with open('daily_engagement.csv', 'rb') as f:\n",
    "    daily_engagement = list(unicodecsv.DictReader(f))\n",
    "    \n",
    "with open('project_submissions.csv', 'rb') as f:\n",
    "    project_submissions = list(unicodecsv.DictReader(f))"
   ]
  },
  {
   "cell_type": "code",
   "execution_count": 5,
   "metadata": {
    "collapsed": false
   },
   "outputs": [
    {
     "name": "stdout",
     "output_type": "stream",
     "text": [
      "Printing first Row of daily_engagement :\n"
     ]
    },
    {
     "data": {
      "text/plain": [
       "{'acct': '0',\n",
       " 'lessons_completed': '0.0',\n",
       " 'num_courses_visited': '1.0',\n",
       " 'projects_completed': '0.0',\n",
       " 'total_minutes_visited': '11.6793745',\n",
       " 'utc_date': '2015-01-09'}"
      ]
     },
     "execution_count": 5,
     "metadata": {},
     "output_type": "execute_result"
    }
   ],
   "source": [
    "print(\"Printing first Row of daily_engagement :\")\n",
    "daily_engagement[0]"
   ]
  },
  {
   "cell_type": "code",
   "execution_count": 6,
   "metadata": {
    "collapsed": false
   },
   "outputs": [
    {
     "name": "stdout",
     "output_type": "stream",
     "text": [
      "Printing first Row of project_submissions :\n"
     ]
    },
    {
     "data": {
      "text/plain": [
       "{'account_key': '256',\n",
       " 'assigned_rating': 'UNGRADED',\n",
       " 'completion_date': '2015-01-16',\n",
       " 'creation_date': '2015-01-14',\n",
       " 'lesson_key': '3176718735',\n",
       " 'processing_state': 'EVALUATED'}"
      ]
     },
     "execution_count": 6,
     "metadata": {},
     "output_type": "execute_result"
    }
   ],
   "source": [
    "print(\"Printing first Row of project_submissions :\")\n",
    "project_submissions[0]"
   ]
  },
  {
   "cell_type": "markdown",
   "metadata": {},
   "source": [
    "## Fixing Data Types"
   ]
  },
  {
   "cell_type": "code",
   "execution_count": 7,
   "metadata": {
    "collapsed": false
   },
   "outputs": [
    {
     "data": {
      "text/plain": [
       "{'account_key': '448',\n",
       " 'cancel_date': datetime.datetime(2015, 1, 14, 0, 0),\n",
       " 'days_to_cancel': 65,\n",
       " 'is_canceled': True,\n",
       " 'is_udacity': True,\n",
       " 'join_date': datetime.datetime(2014, 11, 10, 0, 0),\n",
       " 'status': 'canceled'}"
      ]
     },
     "execution_count": 7,
     "metadata": {},
     "output_type": "execute_result"
    }
   ],
   "source": [
    "from datetime import datetime as dt\n",
    "\n",
    "# Takes a date as a string, and returns a Python datetime object. \n",
    "# If there is no date given, returns None\n",
    "def parse_date(date):\n",
    "    if date == '':\n",
    "        return None\n",
    "    else:\n",
    "        return dt.strptime(date, '%Y-%m-%d')\n",
    "    \n",
    "# Takes a string which is either an empty string or represents an integer,\n",
    "# and returns an int or None.\n",
    "def parse_maybe_int(i):\n",
    "    if i == '':\n",
    "        return None\n",
    "    else:\n",
    "        return int(i)\n",
    "\n",
    "# Clean up the data types in the enrollments table\n",
    "for enrollment in enrollments:\n",
    "    enrollment['cancel_date'] = parse_date(enrollment['cancel_date'])\n",
    "    enrollment['days_to_cancel'] = parse_maybe_int(enrollment['days_to_cancel'])\n",
    "    enrollment['is_canceled'] = enrollment['is_canceled'] == 'True'\n",
    "    enrollment['is_udacity'] = enrollment['is_udacity'] == 'True'\n",
    "    enrollment['join_date'] = parse_date(enrollment['join_date'])\n",
    "    \n",
    "enrollments[0]"
   ]
  },
  {
   "cell_type": "code",
   "execution_count": 8,
   "metadata": {
    "collapsed": false
   },
   "outputs": [
    {
     "data": {
      "text/plain": [
       "{'acct': '0',\n",
       " 'lessons_completed': 0,\n",
       " 'num_courses_visited': 1,\n",
       " 'projects_completed': 0,\n",
       " 'total_minutes_visited': 11.6793745,\n",
       " 'utc_date': datetime.datetime(2015, 1, 9, 0, 0)}"
      ]
     },
     "execution_count": 8,
     "metadata": {},
     "output_type": "execute_result"
    }
   ],
   "source": [
    "# Clean up the data types in the engagement table\n",
    "for engagement_record in daily_engagement:\n",
    "    engagement_record['lessons_completed'] = int(float(engagement_record['lessons_completed']))\n",
    "    engagement_record['num_courses_visited'] = int(float(engagement_record['num_courses_visited']))\n",
    "    engagement_record['projects_completed'] = int(float(engagement_record['projects_completed']))\n",
    "    engagement_record['total_minutes_visited'] = float(engagement_record['total_minutes_visited'])\n",
    "    engagement_record['utc_date'] = parse_date(engagement_record['utc_date'])\n",
    "    \n",
    "daily_engagement[0]"
   ]
  },
  {
   "cell_type": "code",
   "execution_count": 9,
   "metadata": {
    "collapsed": false
   },
   "outputs": [
    {
     "data": {
      "text/plain": [
       "{'account_key': '256',\n",
       " 'assigned_rating': 'UNGRADED',\n",
       " 'completion_date': datetime.datetime(2015, 1, 16, 0, 0),\n",
       " 'creation_date': datetime.datetime(2015, 1, 14, 0, 0),\n",
       " 'lesson_key': '3176718735',\n",
       " 'processing_state': 'EVALUATED'}"
      ]
     },
     "execution_count": 9,
     "metadata": {},
     "output_type": "execute_result"
    }
   ],
   "source": [
    "# Clean up the data types in the submissions table\n",
    "for submission in project_submissions:\n",
    "    submission['completion_date'] = parse_date(submission['completion_date'])\n",
    "    submission['creation_date'] = parse_date(submission['creation_date'])\n",
    "\n",
    "project_submissions[0]"
   ]
  },
  {
   "cell_type": "markdown",
   "metadata": {},
   "source": [
    "Note when running the above cells that we are actively changing the contents of our data variables. If you try to run these cells multiple times in the same session, an error will occur.\n",
    "\n",
    "## Investigating the Data"
   ]
  },
  {
   "cell_type": "code",
   "execution_count": 10,
   "metadata": {
    "collapsed": false
   },
   "outputs": [],
   "source": [
    "## Rename the \"acct\" column in the daily_engagement table to \"account_key\" so that we can write  \n",
    "## a function to get unique students given any of the three datasets\n",
    "for engagement in daily_engagement:\n",
    "    engagement['account_key']=engagement['acct']\n",
    "    del engagement['acct']"
   ]
  },
  {
   "cell_type": "code",
   "execution_count": 11,
   "metadata": {
    "collapsed": true
   },
   "outputs": [],
   "source": [
    "# Function to get unique students from any of the three datasets\n",
    "def get_unique_students(data):\n",
    "   return set([data_point['account_key'] for data_point in data])"
   ]
  },
  {
   "cell_type": "code",
   "execution_count": 12,
   "metadata": {
    "collapsed": false
   },
   "outputs": [
    {
     "name": "stdout",
     "output_type": "stream",
     "text": [
      "Printing total number of rows and unique students in enrollments\n",
      "1640\n",
      "1302\n",
      "Printing total number of rows and unique students in daily engagement\n",
      "136240\n",
      "1237\n",
      "Printing total number of rows and unique students in project submissions\n",
      "3642\n",
      "743\n"
     ]
    }
   ],
   "source": [
    "## Total number of rows and the number of unique students (account keys) in each table.\n",
    "\n",
    "enrollment_num_rows = len(enrollments)\n",
    "enrollment_num_unique_students = len(get_unique_students(enrollments))\n",
    "\n",
    "engagement_num_rows = len(daily_engagement)\n",
    "engagement_num_unique_students = len(get_unique_students(daily_engagement))\n",
    "\n",
    "submission_num_rows = len(project_submissions)\n",
    "submission_num_unique_students = len(get_unique_students(project_submissions))\n",
    "\n",
    "print(\"Printing total number of rows and unique students in enrollments\")\n",
    "print(enrollment_num_rows)\n",
    "print(enrollment_num_unique_students)\n",
    "      \n",
    "print(\"Printing total number of rows and unique students in daily engagement\")\n",
    "print(engagement_num_rows)\n",
    "print(engagement_num_unique_students)\n",
    "      \n",
    "print(\"Printing total number of rows and unique students in project submissions\")\n",
    "print(submission_num_rows)\n",
    "print(submission_num_unique_students)"
   ]
  },
  {
   "cell_type": "markdown",
   "metadata": {},
   "source": [
    "## Problems in the Data"
   ]
  },
  {
   "cell_type": "markdown",
   "metadata": {},
   "source": [
    "## Missing Engagement Records"
   ]
  },
  {
   "cell_type": "code",
   "execution_count": 13,
   "metadata": {
    "collapsed": false
   },
   "outputs": [
    {
     "name": "stdout",
     "output_type": "stream",
     "text": [
      "{'is_udacity': False, 'is_canceled': True, 'status': 'canceled', 'join_date': datetime.datetime(2014, 12, 4, 0, 0), 'cancel_date': datetime.datetime(2014, 12, 4, 0, 0), 'days_to_cancel': 0, 'account_key': '717'}\n"
     ]
    }
   ],
   "source": [
    "## Find any one student enrollments where the student is missing from the daily engagement table.\n",
    "## Output that enrollment.\n",
    "unique_enrollments = get_unique_students(enrollments)\n",
    "unique_engagements = get_unique_students(daily_engagement)\n",
    "missing_account_keys = unique_enrollments-unique_engagements\n",
    "missing_account_key = list(missing_account_keys)[0]\n",
    "for enrollment in enrollments:\n",
    "    if enrollment['account_key'] == missing_account_key:\n",
    "        print(enrollment)"
   ]
  },
  {
   "cell_type": "markdown",
   "metadata": {},
   "source": [
    "The cause of this error is the joining date and cancelling date being the same\n",
    "Thats why there is no entry for such a student in daily engagement table"
   ]
  },
  {
   "cell_type": "markdown",
   "metadata": {},
   "source": [
    "## Checking for More Problem Records"
   ]
  },
  {
   "cell_type": "code",
   "execution_count": 14,
   "metadata": {
    "collapsed": false
   },
   "outputs": [
    {
     "name": "stdout",
     "output_type": "stream",
     "text": [
      "{'is_udacity': True, 'is_canceled': True, 'status': 'canceled', 'join_date': datetime.datetime(2015, 1, 10, 0, 0), 'cancel_date': datetime.datetime(2015, 3, 10, 0, 0), 'days_to_cancel': 59, 'account_key': '1304'}\n",
      "{'is_udacity': True, 'is_canceled': True, 'status': 'canceled', 'join_date': datetime.datetime(2015, 3, 10, 0, 0), 'cancel_date': datetime.datetime(2015, 6, 17, 0, 0), 'days_to_cancel': 99, 'account_key': '1304'}\n",
      "{'is_udacity': True, 'is_canceled': False, 'status': 'current', 'join_date': datetime.datetime(2015, 2, 25, 0, 0), 'cancel_date': None, 'days_to_cancel': None, 'account_key': '1101'}\n"
     ]
    },
    {
     "data": {
      "text/plain": [
       "3"
      ]
     },
     "execution_count": 14,
     "metadata": {},
     "output_type": "execute_result"
    }
   ],
   "source": [
    "## Find the number of surprising data points (enrollments missing from\n",
    "## the engagement table) that remain, if any.\n",
    "count = 0\n",
    "for enrollment in enrollments:\n",
    "        if enrollment['account_key'] in missing_account_keys and enrollment['join_date'] != enrollment['cancel_date'] :\n",
    "            print(enrollment)\n",
    "            count = count +1\n",
    "count"
   ]
  },
  {
   "cell_type": "markdown",
   "metadata": {},
   "source": [
    "\n",
    "These are the records whos joining date and cancel date are not same, but still are missing from the engagement table.\n",
    "so, we need to investigate why these elements were missing. If you notice, these entries have `is_udacity=true`. That means these are the test accounts. So, these can be removed from all the datasets."
   ]
  },
  {
   "cell_type": "markdown",
   "metadata": {},
   "source": [
    "## Tracking Down the Remaining Problems"
   ]
  },
  {
   "cell_type": "code",
   "execution_count": 15,
   "metadata": {
    "collapsed": false
   },
   "outputs": [
    {
     "data": {
      "text/plain": [
       "6"
      ]
     },
     "execution_count": 15,
     "metadata": {},
     "output_type": "execute_result"
    }
   ],
   "source": [
    "# Create a set of the account keys for all Udacity test accounts\n",
    "udacity_test_accounts = set()\n",
    "for enrollment in enrollments:\n",
    "    if enrollment['is_udacity']:\n",
    "        udacity_test_accounts.add(enrollment['account_key'])\n",
    "len(udacity_test_accounts)"
   ]
  },
  {
   "cell_type": "code",
   "execution_count": 16,
   "metadata": {
    "collapsed": true
   },
   "outputs": [],
   "source": [
    "# Given some data with an account_key field, removes any records corresponding to Udacity test accounts\n",
    "def remove_udacity_accounts(data):\n",
    "    non_udacity_data = []\n",
    "    for data_point in data:\n",
    "        if data_point['account_key'] not in udacity_test_accounts:\n",
    "            non_udacity_data.append(data_point)\n",
    "    return non_udacity_data"
   ]
  },
  {
   "cell_type": "code",
   "execution_count": 17,
   "metadata": {
    "collapsed": false
   },
   "outputs": [
    {
     "name": "stdout",
     "output_type": "stream",
     "text": [
      "1622\n",
      "135656\n",
      "3634\n"
     ]
    }
   ],
   "source": [
    "# Remove Udacity test accounts from all three tables\n",
    "non_udacity_enrollments = remove_udacity_accounts(enrollments)\n",
    "non_udacity_engagement = remove_udacity_accounts(daily_engagement)\n",
    "non_udacity_submissions = remove_udacity_accounts(project_submissions)\n",
    "\n",
    "print(len(non_udacity_enrollments))\n",
    "print(len(non_udacity_engagement))\n",
    "print(len(non_udacity_submissions))"
   ]
  },
  {
   "cell_type": "markdown",
   "metadata": {},
   "source": [
    "## Refining the Question"
   ]
  },
  {
   "cell_type": "code",
   "execution_count": 18,
   "metadata": {
    "collapsed": false
   },
   "outputs": [
    {
     "name": "stdout",
     "output_type": "stream",
     "text": [
      "995\n"
     ]
    }
   ],
   "source": [
    "## Create a dictionary named paid_students containing all students who either\n",
    "## haven't canceled yet or who remained enrolled for more than 7 days. The keys\n",
    "## should be account keys, and the values should be the date the student enrolled.\n",
    "\n",
    "paid_students = {}\n",
    "for student in non_udacity_enrollments:\n",
    "    if (not student['is_canceled'] or student['days_to_cancel']>7):\n",
    "        account_key = student['account_key']\n",
    "        enrollment_date = student['join_date']\n",
    "        if account_key not in paid_students or \\\n",
    "        enrollment_date>paid_students[account_key]:\n",
    "            paid_students[account_key]=enrollment_date\n",
    "print(len(paid_students))"
   ]
  },
  {
   "cell_type": "markdown",
   "metadata": {},
   "source": [
    "In case a student has multiple entries in the enrollment table, since a student can enroll and cancel and enroll again. In that case, to avoid putting a randomly chosen enrollment date being put, we are putting the latest enrollment date in the dictionary."
   ]
  },
  {
   "cell_type": "markdown",
   "metadata": {},
   "source": [
    "## Getting Data from First Week"
   ]
  },
  {
   "cell_type": "code",
   "execution_count": 19,
   "metadata": {
    "collapsed": true
   },
   "outputs": [],
   "source": [
    "# Takes a student's join date and the date of a specific engagement record,\n",
    "# and returns True if that engagement record happened within one week\n",
    "# of the student joining.\n",
    "def within_one_week(join_date, engagement_date):\n",
    "    time_delta = engagement_date - join_date\n",
    "    return time_delta.days < 7 and time_delta.days>=0"
   ]
  },
  {
   "cell_type": "code",
   "execution_count": 20,
   "metadata": {
    "collapsed": true
   },
   "outputs": [],
   "source": [
    "def remove_free_trial_cancels(data):\n",
    "    new_data = []\n",
    "    for data_point in data:\n",
    "        if (data_point['account_key'] in list(paid_students.keys())):\n",
    "            new_data.append(data_point)\n",
    "    return new_data"
   ]
  },
  {
   "cell_type": "code",
   "execution_count": 21,
   "metadata": {
    "collapsed": false
   },
   "outputs": [
    {
     "name": "stdout",
     "output_type": "stream",
     "text": [
      "1293\n",
      "134549\n",
      "3618\n"
     ]
    }
   ],
   "source": [
    "paid_enrollments = remove_free_trial_cancels(non_udacity_enrollments)\n",
    "paid_engagement = remove_free_trial_cancels(non_udacity_engagement)\n",
    "paid_submissions = remove_free_trial_cancels(non_udacity_submissions)\n",
    "\n",
    "print(len(paid_enrollments))\n",
    "print(len(paid_engagement))\n",
    "print(len(paid_submissions))"
   ]
  },
  {
   "cell_type": "code",
   "execution_count": 22,
   "metadata": {
    "collapsed": false
   },
   "outputs": [
    {
     "data": {
      "text/plain": [
       "6919"
      ]
     },
     "execution_count": 22,
     "metadata": {},
     "output_type": "execute_result"
    }
   ],
   "source": [
    "## Create a list of rows from the engagement table including only rows where\n",
    "## the student is one of the paid students you just found, and the date is within\n",
    "## one week of the student's join date.\n",
    "\n",
    "paid_engagement_in_first_week = list()\n",
    "for engagement in paid_engagement:\n",
    "    account_key = engagement['account_key']\n",
    "    engagement_date = engagement['utc_date']\n",
    "    if within_one_week(paid_students.get(account_key),engagement_date):\n",
    "        paid_engagement_in_first_week.append(engagement)\n",
    "\n",
    "len(paid_engagement_in_first_week)"
   ]
  },
  {
   "cell_type": "markdown",
   "metadata": {},
   "source": [
    "## Exploring Student Engagement"
   ]
  },
  {
   "cell_type": "code",
   "execution_count": 23,
   "metadata": {
    "collapsed": false
   },
   "outputs": [],
   "source": [
    "from collections import defaultdict\n",
    "\n",
    "def group_data(data, key_name):\n",
    "    grouped_data = defaultdict(list)\n",
    "    for data_point in data:\n",
    "        key = data_point[key_name]\n",
    "        grouped_data[key].append(data_point)\n",
    "    return grouped_data\n",
    "\n",
    "# Create a dictionary of engagement grouped by student.\n",
    "# The keys are account keys, and the values are lists of engagement records.\n",
    "engagement_by_account = group_data(paid_engagement_in_first_week, 'account_key')"
   ]
  },
  {
   "cell_type": "code",
   "execution_count": 24,
   "metadata": {
    "collapsed": false
   },
   "outputs": [],
   "source": [
    "def values_by_account(engagement_by_account, name):\n",
    "    final_dict = {}\n",
    "    for key,list_engagement in engagement_by_account.items():\n",
    "        total_value = 0;\n",
    "        for engagement in list_engagement:\n",
    "            total_value += engagement[name]\n",
    "        final_dict[key] = total_value\n",
    "    return final_dict"
   ]
  },
  {
   "cell_type": "code",
   "execution_count": 25,
   "metadata": {
    "collapsed": true
   },
   "outputs": [],
   "source": [
    "def describe_data(data):\n",
    "    print('Mean:', np.mean(data))\n",
    "    print('Standard deviation:', np.std(data))\n",
    "    print('Minimum:', np.min(data))\n",
    "    print('Maximum:', np.max(data))"
   ]
  },
  {
   "cell_type": "code",
   "execution_count": 27,
   "metadata": {
    "collapsed": false
   },
   "outputs": [
    {
     "name": "stdout",
     "output_type": "stream",
     "text": [
      "Mean: 306.708326753\n",
      "Standard deviation: 412.996933409\n",
      "Minimum: 0.0\n",
      "Maximum: 3564.7332645\n"
     ]
    }
   ],
   "source": [
    "# Create a dictionary with the total minutes each student spent in the classroom during the first week.\n",
    "# The keys are account keys, and the values are numbers (total minutes)\n",
    "\n",
    "total_minutes_by_account = values_by_account(engagement_by_account, 'total_minutes_visited')\n",
    "describe_data(list(total_minutes_by_account.values()))"
   ]
  },
  {
   "cell_type": "markdown",
   "metadata": {},
   "source": [
    "## Debugging Data Analysis Code"
   ]
  },
  {
   "cell_type": "code",
   "execution_count": 28,
   "metadata": {
    "collapsed": false
   },
   "outputs": [
    {
     "name": "stdout",
     "output_type": "stream",
     "text": [
      "true\n",
      "{'utc_date': datetime.datetime(2015, 7, 9, 0, 0), 'num_courses_visited': 4, 'total_minutes_visited': 850.519339666, 'projects_completed': 0, 'account_key': '163', 'lessons_completed': 4}\n",
      "{'utc_date': datetime.datetime(2015, 7, 10, 0, 0), 'num_courses_visited': 6, 'total_minutes_visited': 872.633923334, 'projects_completed': 0, 'account_key': '163', 'lessons_completed': 6}\n",
      "{'utc_date': datetime.datetime(2015, 7, 11, 0, 0), 'num_courses_visited': 2, 'total_minutes_visited': 777.018903666, 'projects_completed': 0, 'account_key': '163', 'lessons_completed': 6}\n",
      "{'utc_date': datetime.datetime(2015, 7, 12, 0, 0), 'num_courses_visited': 1, 'total_minutes_visited': 294.568774, 'projects_completed': 0, 'account_key': '163', 'lessons_completed': 2}\n",
      "{'utc_date': datetime.datetime(2015, 7, 13, 0, 0), 'num_courses_visited': 3, 'total_minutes_visited': 471.2139785, 'projects_completed': 0, 'account_key': '163', 'lessons_completed': 1}\n",
      "{'utc_date': datetime.datetime(2015, 7, 14, 0, 0), 'num_courses_visited': 2, 'total_minutes_visited': 298.778345333, 'projects_completed': 0, 'account_key': '163', 'lessons_completed': 1}\n",
      "{'utc_date': datetime.datetime(2015, 7, 15, 0, 0), 'num_courses_visited': 0, 'total_minutes_visited': 0.0, 'projects_completed': 0, 'account_key': '163', 'lessons_completed': 0}\n"
     ]
    }
   ],
   "source": [
    "## Go through a similar process as before to see if there is a problem.\n",
    "## Locate at least one surprising piece of data, output it, and take a look at it.\n",
    "max_key = None\n",
    "max_value=0\n",
    "for key in list(total_minutes_by_account.keys()):\n",
    "    if total_minutes_by_account[key] > max_value:\n",
    "        max_key = key\n",
    "        max_value = total_minutes_by_account[key]\n",
    "if max_key in paid_students:\n",
    "    print('true')\n",
    "for en in paid_engagement_in_first_week:\n",
    "    if en['account_key']==max_key:\n",
    "        print(en)"
   ]
  },
  {
   "cell_type": "markdown",
   "metadata": {},
   "source": [
    "The bug was in the within_one_week function. It was just checking that engagement date was not more than 7 days ahead of enrollment date. But actually, we should also check that it didn't belong to a past date, as students are allowed to enroll, do some engagements and then cancel and then enroll again. So, the final engagements was counting all the past engagements as well and not just the engagements falling in the next 7 days. Changing the final line in function fixed it."
   ]
  },
  {
   "cell_type": "markdown",
   "metadata": {},
   "source": [
    "## Lessons Completed in First Week"
   ]
  },
  {
   "cell_type": "code",
   "execution_count": 29,
   "metadata": {
    "collapsed": false
   },
   "outputs": [
    {
     "name": "stdout",
     "output_type": "stream",
     "text": [
      "Mean: 1.63618090452\n",
      "Standard deviation: 3.00256129983\n",
      "Minimum: 0\n",
      "Maximum: 36\n"
     ]
    }
   ],
   "source": [
    "# Create a dictionary with the total lessons each student learnt in the classroom during the first week.\n",
    "# The keys are account keys, and the values are numbers (total lessons)\n",
    "\n",
    "## Find the mean, standard deviation, minimum, and maximum for\n",
    "## the number of lessons completed by each student during the first week.\n",
    "\n",
    "total_lessons_by_account = values_by_account(engagement_by_account,'lessons_completed')\n",
    "describe_data(list(total_lessons_by_account.values()))"
   ]
  },
  {
   "cell_type": "markdown",
   "metadata": {},
   "source": [
    "## Number of Visits in First Week"
   ]
  },
  {
   "cell_type": "code",
   "execution_count": 30,
   "metadata": {
    "collapsed": false
   },
   "outputs": [
    {
     "name": "stdout",
     "output_type": "stream",
     "text": [
      "Mean: 2.86733668342\n",
      "Standard deviation: 2.25519800292\n",
      "Minimum: 0\n",
      "Maximum: 7\n"
     ]
    }
   ],
   "source": [
    "## Find the mean, standard deviation, minimum, and maximum for the number of\n",
    "## days each student visits the classroom during the first week.\n",
    "\n",
    "for engagements in list(engagement_by_account.values()):\n",
    "    for engagement in engagements:\n",
    "        if engagement['num_courses_visited']>0:\n",
    "            engagement['has_visited']=1\n",
    "        else:\n",
    "            engagement['has_visited']=0\n",
    "\n",
    "days_by_account = values_by_account(engagement_by_account, 'has_visited')\n",
    "describe_data(list(days_by_account.values()))"
   ]
  },
  {
   "cell_type": "markdown",
   "metadata": {},
   "source": [
    "## Splitting out Passing Students"
   ]
  },
  {
   "cell_type": "code",
   "execution_count": 31,
   "metadata": {
    "collapsed": false
   },
   "outputs": [
    {
     "data": {
      "text/plain": [
       "647"
      ]
     },
     "execution_count": 31,
     "metadata": {},
     "output_type": "execute_result"
    }
   ],
   "source": [
    "pass_subway_project = set()\n",
    "\n",
    "subway_project_lesson_keys = ['746169184', '3176718735']\n",
    "\n",
    "for submission in paid_submissions:\n",
    "    key = submission['account_key']\n",
    "    lesson_key = submission['lesson_key']\n",
    "    rating = submission['assigned_rating']\n",
    "    \n",
    "    if (lesson_key in subway_project_lesson_keys and (rating=='PASSED' or rating=='DISTINCTION')):\n",
    "        pass_subway_project.add(key)\n",
    "\n",
    "len(pass_subway_project)"
   ]
  },
  {
   "cell_type": "code",
   "execution_count": 32,
   "metadata": {
    "collapsed": false
   },
   "outputs": [
    {
     "name": "stdout",
     "output_type": "stream",
     "text": [
      "4527\n",
      "2392\n"
     ]
    }
   ],
   "source": [
    "## Create two lists of engagement data for paid students in the first week.\n",
    "## The first list should contain data for students who eventually pass the\n",
    "## subway project, and the second list should contain data for students\n",
    "## who do not.\n",
    "\n",
    "passing_engagement = []\n",
    "non_passing_engagement = []\n",
    "\n",
    "for engagement in paid_engagement_in_first_week:\n",
    "    key = engagement['account_key']\n",
    "    if key in pass_subway_project:\n",
    "        passing_engagement.append(engagement)\n",
    "    else:\n",
    "        non_passing_engagement.append(engagement)\n",
    "\n",
    "print(len(passing_engagement))\n",
    "print(len(non_passing_engagement))"
   ]
  },
  {
   "cell_type": "markdown",
   "metadata": {},
   "source": [
    "## Comparing the Two Student Groups"
   ]
  },
  {
   "cell_type": "code",
   "execution_count": 34,
   "metadata": {
    "collapsed": false
   },
   "outputs": [
    {
     "name": "stdout",
     "output_type": "stream",
     "text": [
      "Mean: 394.586046484\n",
      "Standard deviation: 448.499519327\n",
      "Minimum: 0.0\n",
      "Maximum: 3564.7332645\n",
      "Mean: 143.326474267\n",
      "Standard deviation: 269.538619011\n",
      "Minimum: 0.0\n",
      "Maximum: 1768.52274933\n",
      "Mean: 2.05255023184\n",
      "Standard deviation: 3.14222705558\n",
      "Minimum: 0\n",
      "Maximum: 36\n",
      "Mean: 0.862068965517\n",
      "Standard deviation: 2.54915994183\n",
      "Minimum: 0\n",
      "Maximum: 27\n",
      "Mean: 3.38485316847\n",
      "Standard deviation: 2.25882147092\n",
      "Minimum: 0\n",
      "Maximum: 7\n",
      "Mean: 1.90517241379\n",
      "Standard deviation: 1.90573144136\n",
      "Minimum: 0\n",
      "Maximum: 7\n"
     ]
    }
   ],
   "source": [
    "######################################\n",
    "#                 12                 #\n",
    "######################################\n",
    "\n",
    "## Compute some metrics you're interested in and see how they differ for\n",
    "## students who pass the subway project vs. students who don't. A good\n",
    "## starting point would be the metrics we looked at earlier (minutes spent\n",
    "## in the classroom, lessons completed, and days visited).\n",
    "\n",
    "passing_engagement_by_account = group_data(passing_engagement,'account_key')\n",
    "non_passing_engagement_by_account = group_data(non_passing_engagement,'account_key')\n",
    "\n",
    "print(\"Describing minutes in first week who pass their first project\")\n",
    "minutes_by_account = values_by_account(passing_engagement_by_account,'total_minutes_visited')\n",
    "describe_data(list(minutes_by_account.values()))\n",
    "\n",
    "print(\"Describing minutes in first week who don't pass their first project\")\n",
    "minutes_by_account_non_passing = values_by_account(non_passing_engagement_by_account,'total_minutes_visited')\n",
    "describe_data(list(minutes_by_account_non_passing.values()))\n",
    "\n",
    "print(\"Describing lessons in first week who pass their first project\")\n",
    "passing_lessons_by_account = values_by_account(passing_engagement_by_account,'lessons_completed')\n",
    "describe_data(list(passing_lessons_by_account.values()))\n",
    "\n",
    "print(\"Describing lessons in first week who don't pass their first project\")\n",
    "non_passing_lessons_by_account = values_by_account(non_passing_engagement_by_account,'lessons_completed')\n",
    "describe_data(list(non_passing_lessons_by_account.values()))\n",
    "\n",
    "print(\"Describing visited days in first week who pass their first project\")\n",
    "passing_days_by_account = values_by_account(passing_engagement_by_account, 'has_visited')\n",
    "describe_data(list(passing_days_by_account.values()))\n",
    "\n",
    "print(\"Describing visited days in first week who don't pass their first project\")\n",
    "non_passing_days_by_account = values_by_account(non_passing_engagement_by_account, 'has_visited')\n",
    "describe_data(list(non_passing_days_by_account.values()))"
   ]
  },
  {
   "cell_type": "markdown",
   "metadata": {},
   "source": [
    "## Making Histograms"
   ]
  },
  {
   "cell_type": "code",
   "execution_count": null,
   "metadata": {
    "collapsed": true
   },
   "outputs": [],
   "source": [
    "## Make histograms of the three metrics we looked at earlier for both\n",
    "## students who passed the subway project and students who didn't. You\n",
    "## might also want to make histograms of any other metrics you examined."
   ]
  },
  {
   "cell_type": "markdown",
   "metadata": {},
   "source": [
    "## Improving Plots and Sharing Findings"
   ]
  },
  {
   "cell_type": "code",
   "execution_count": null,
   "metadata": {
    "collapsed": true
   },
   "outputs": [],
   "source": [
    "######################################\n",
    "#                 14                 #\n",
    "######################################\n",
    "\n",
    "## Make a more polished version of at least one of your visualizations\n",
    "## from earlier. Try importing the seaborn library to make the visualization\n",
    "## look better, adding axis labels and a title, and changing one or more\n",
    "## arguments to the hist() function."
   ]
  }
 ],
 "metadata": {
  "anaconda-cloud": {},
  "kernelspec": {
   "display_name": "Python [conda root]",
   "language": "python",
   "name": "conda-root-py"
  },
  "language_info": {
   "codemirror_mode": {
    "name": "ipython",
    "version": 3
   },
   "file_extension": ".py",
   "mimetype": "text/x-python",
   "name": "python",
   "nbconvert_exporter": "python",
   "pygments_lexer": "ipython3",
   "version": "3.5.2"
  }
 },
 "nbformat": 4,
 "nbformat_minor": 0
}
